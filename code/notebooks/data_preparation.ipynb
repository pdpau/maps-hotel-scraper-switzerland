{
 "cells": [
  {
   "cell_type": "markdown",
   "metadata": {},
   "source": [
    "## Data treatment ..."
   ]
  },
  {
   "cell_type": "code",
   "execution_count": null,
   "metadata": {},
   "outputs": [],
   "source": [
    "#%pip install numpy\n",
    "#%pip install pandas\n"
   ]
  },
  {
   "cell_type": "code",
   "execution_count": null,
   "metadata": {},
   "outputs": [],
   "source": [
    "# Imports\n",
    "#import numpy as np\n",
    "import pandas as pd\n",
    "#import matplotlib.pyplot as plt\n",
    "#import plotly.graph_objects as go\n",
    "#from docx import Document"
   ]
  },
  {
   "cell_type": "markdown",
   "metadata": {},
   "source": [
    "#### 1. Import data and create DataFrames"
   ]
  },
  {
   "cell_type": "code",
   "execution_count": null,
   "metadata": {},
   "outputs": [],
   "source": [
    "csv_path = \"../data/raw/Lugano/hotels in lugano with emails.csv\"\n",
    "\n",
    "input_csv = pd.read_csv(csv_path, sep=\",\")"
   ]
  },
  {
   "cell_type": "code",
   "execution_count": null,
   "metadata": {},
   "outputs": [],
   "source": [
    "first_5_rows = input_csv.head(5)\n",
    "first_5_rows"
   ]
  },
  {
   "cell_type": "markdown",
   "metadata": {},
   "source": [
    "#### 2. Preparing DataFrame"
   ]
  },
  {
   "cell_type": "code",
   "execution_count": null,
   "metadata": {},
   "outputs": [],
   "source": [
    "main_df = input_csv.copy()\n",
    "#lugano_df.head(5)"
   ]
  },
  {
   "cell_type": "code",
   "execution_count": null,
   "metadata": {},
   "outputs": [],
   "source": [
    "main_df = main_df.reset_index(drop=True)\n",
    "main_df.index += 1\n",
    "main_df.head()"
   ]
  },
  {
   "cell_type": "code",
   "execution_count": null,
   "metadata": {},
   "outputs": [],
   "source": [
    "# --- Canviar DataTypes a string/int ---\n",
    "print(main_df.dtypes)\n",
    "print(\"----------------------------\")\n",
    "\n",
    "# Make sure everything is a string\n",
    "main_df = main_df.astype(str)\n",
    "# Change n_reviews and price to int\n",
    "main_df[\"n_reviews\"] = main_df[\"n_reviews\"].astype(int)\n",
    "main_df[\"price\"] = main_df[\"price\"].str.replace(\"€\", \"\").str.replace(\"nan\", \"0\").astype(int)\n",
    "\n",
    "print(main_df.dtypes)\n",
    "\n",
    "main_df.head()"
   ]
  },
  {
   "cell_type": "code",
   "execution_count": null,
   "metadata": {},
   "outputs": [],
   "source": [
    "# --- Eliminar hoteles sin email ---\n",
    "no_emails_out = main_df[~main_df[\"email\"].apply(lambda x: x in [\"NO_EMAIL\", \"nan\"])]\n",
    "#no_emails_out.set_index(keys=[\"name\", \"category\"], drop=True)\n",
    "no_emails_out.head()"
   ]
  },
  {
   "cell_type": "code",
   "execution_count": null,
   "metadata": {},
   "outputs": [],
   "source": [
    "# --- Eliminar hoteles duplicados ---\n",
    "no_duplicates = no_emails_out.drop_duplicates()\n",
    "print(no_emails_out.info())\n",
    "print(\"-------------------------------\")\n",
    "print(no_duplicates.info())"
   ]
  },
  {
   "cell_type": "code",
   "execution_count": null,
   "metadata": {},
   "outputs": [],
   "source": [
    "# --- Reorder columns to [name, category, city, address] ---\n",
    "df_ordered = no_duplicates.iloc[:,[0,1,6,3,4,5,8,7,2]]\n",
    "df_ordered.head()"
   ]
  },
  {
   "cell_type": "markdown",
   "metadata": {},
   "source": [
    "#### 3. Filters"
   ]
  },
  {
   "cell_type": "code",
   "execution_count": null,
   "metadata": {},
   "outputs": [],
   "source": [
    "df = df_ordered.copy()\n",
    "df"
   ]
  },
  {
   "cell_type": "code",
   "execution_count": null,
   "metadata": {},
   "outputs": [],
   "source": [
    "# Whatever we want"
   ]
  },
  {
   "cell_type": "markdown",
   "metadata": {},
   "source": [
    "#### X. Merge all DataFrames into one (for Ticino region)"
   ]
  },
  {
   "cell_type": "code",
   "execution_count": null,
   "metadata": {},
   "outputs": [],
   "source": []
  },
  {
   "cell_type": "markdown",
   "metadata": {},
   "source": [
    "#### 5. Save DataFrame into a file"
   ]
  },
  {
   "cell_type": "code",
   "execution_count": null,
   "metadata": {},
   "outputs": [],
   "source": [
    "# --- City/Region name ---\n",
    "city = \"Lugano\"\n",
    "filename = \"hotels_\" + city.lower()"
   ]
  },
  {
   "cell_type": "code",
   "execution_count": null,
   "metadata": {},
   "outputs": [],
   "source": [
    "# --- Save to CSV ---\n",
    "output_path_csv = \"../data/processed/\" + city + \"/\" + filename + \".csv\"\n",
    "df.to_csv(output_path_csv, index=False)"
   ]
  },
  {
   "cell_type": "code",
   "execution_count": null,
   "metadata": {},
   "outputs": [],
   "source": [
    "# --- Save to JSON ---\n",
    "output_path_json = \"../data/processed/\" + city + \"/\" + filename + \".json\"\n",
    "df.to_json(output_path_json, orient=\"records\")"
   ]
  }
 ],
 "metadata": {
  "kernelspec": {
   "display_name": "Python 3",
   "language": "python",
   "name": "python3"
  },
  "language_info": {
   "codemirror_mode": {
    "name": "ipython",
    "version": 3
   },
   "file_extension": ".py",
   "mimetype": "text/x-python",
   "name": "python",
   "nbconvert_exporter": "python",
   "pygments_lexer": "ipython3",
   "version": "3.12.2"
  }
 },
 "nbformat": 4,
 "nbformat_minor": 2
}
